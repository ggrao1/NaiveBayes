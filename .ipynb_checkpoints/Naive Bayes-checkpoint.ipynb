{
 "cells": [
  {
   "cell_type": "code",
   "execution_count": 11,
   "metadata": {
    "collapsed": true
   },
   "outputs": [],
   "source": [
    "def probAttr(data,attr,val):\n",
    "    Total=data.shape[0]\n",
    "    from collections import Counter\n",
    "    cnt=Counter(x for x in data[attr])\n",
    "    return cnt[val],cnt[val]/Total"
   ]
  },
  {
   "cell_type": "code",
   "execution_count": 12,
   "metadata": {
    "collapsed": true
   },
   "outputs": [],
   "source": [
    "def probAttrConcept(data,attr,val,concept,cVal,countConcept):\n",
    "#     print(attr,val)\n",
    "    count={}\n",
    "    prob={}\n",
    "    C = data[concept]\n",
    "    A = data[attr]\n",
    "    for a in range(len(data[attr])):\n",
    "#         print(A[a],C[a])\n",
    "        for v in val:\n",
    "            if(A[a]==v and C[a]==cVal):\n",
    "                if v not in count:\n",
    "                    count[v]=1\n",
    "                else:\n",
    "                    count[v]=count[v]+1\n",
    "    for a in count:\n",
    "        prob[a] = count[a]/countConcept\n",
    "    return prob"
   ]
  },
  {
   "cell_type": "code",
   "execution_count": 13,
   "metadata": {
    "collapsed": true
   },
   "outputs": [],
   "source": [
    "def train(data,AttributeList,concept):\n",
    "    Attr={}\n",
    "    probability_list={}\n",
    "    #Get attribute values\n",
    "    for a in AttributeList:\n",
    "        Attr[a] = list(set(data[a]))\n",
    "    \n",
    "    #print(Attr,AttributeList)   \n",
    "    conceptVals = list(set(data[concept]))\n",
    "    conceptProbs = {}\n",
    "    countConcept={}\n",
    "    AttrConcept = {}\n",
    "    for cVal in conceptVals:\n",
    "        countConcept[cVal],conceptProbs[cVal] = probAttr(data,concept,cVal)\n",
    "    \n",
    "    for val in Attr:\n",
    "        probability_list[val]={}\n",
    "        AttrConcept[val] = {}\n",
    "        for v in Attr[val]:\n",
    "            a,probability_list[val][v]=probAttr(data,val,v)\n",
    "        for cVal in conceptVals:\n",
    "            AttrConcept[val][cVal]=probAttrConcept(data,val,Attr[val],concept,cVal,countConcept[cVal])\n",
    "        \n",
    "    print(\"P(A) : \",conceptProbs,\"\\n\")\n",
    "    print(\"P(X/A) : \",AttrConcept,\"\\n\")\n",
    "    print(\"P(X) : \",probability_list,\"\\n\")\n",
    "    return conceptProbs,AttrConcept,probability_list\n"
   ]
  },
  {
   "cell_type": "code",
   "execution_count": 14,
   "metadata": {
    "collapsed": true
   },
   "outputs": [],
   "source": [
    "def test(examples,AttributeList,conceptProbs,AttrConcept,probability_list,data,concept_list,Total):\n",
    "    misclassification_count=0\n",
    "    Total1 = len(examples)-1\n",
    "    for ex in range(1,len(examples)):\n",
    "        px={}\n",
    "        for x in range(1,len(examples[ex])):\n",
    "            for a in AttributeList:\n",
    "                for c in concept_list:\n",
    "                    if examples[ex][x] in AttrConcept[a][c]:  \n",
    "                        if c not in px:\n",
    "                            px[c] = 1*AttrConcept[a][c][examples[ex][x]]\n",
    "                        else:\n",
    "                            px[c] = px[c]*AttrConcept[a][c][examples[ex][x]]\n",
    "        classification = max(px,key=px.get)\n",
    "        if(classification!=examples[ex][-1]):\n",
    "            misclassification_count+=1\n",
    "    misclassification_rate=misclassification_count*100/Total1\n",
    "    accuracy=100-misclassification_rate\n",
    "    print(\"Misclassification Count={}\".format(misclassification_count))\n",
    "    print(\"Misclassification Rate={}%\".format(misclassification_rate))\n",
    "    print(\"Accuracy={}%\".format(accuracy))"
   ]
  },
  {
   "cell_type": "code",
   "execution_count": 15,
   "metadata": {
    "collapsed": true,
    "scrolled": true
   },
   "outputs": [],
   "source": [
    "def main():\n",
    "    import pandas as pd\n",
    "    from pandas import DataFrame \n",
    "    from collections import Counter\n",
    "    data = DataFrame.from_csv('data_train.csv')\n",
    "#     print(\"\\n Given Play Tennis Data Set:\\n\\n\", data)\n",
    "    AttributeList=list(data)[:-1]\n",
    "    num_of_attributes=len(AttributeList)\n",
    "    concept=str(list(data)[-1])\n",
    "    Total=data.shape[0]\n",
    "    conceptProbs,AttrConcept,probability_list = train(data,AttributeList,concept)\n",
    "\n",
    "    import csv\n",
    "    with open('data_test.csv')  as csvFile:\n",
    "        examples = [list(line) for line in csv.reader(csvFile)]\n",
    "#     print(examples)\n",
    "    concept_list =list(Counter(x for x in data[concept]))\n",
    "    test(examples,AttributeList,conceptProbs,AttrConcept,probability_list,data,concept_list,Total)"
   ]
  },
  {
   "cell_type": "code",
   "execution_count": 16,
   "metadata": {
    "scrolled": true
   },
   "outputs": [
    {
     "name": "stdout",
     "output_type": "stream",
     "text": [
      "P(A) :  {'No': 0.37142857142857144, 'Yes': 0.5428571428571428, 'Nil': 0.08571428571428572} \n",
      "\n",
      "P(X/A) :  {'classTime': {'No': {'Afternoon': 0.6153846153846154, 'Morning': 0.11538461538461539, 'Weekend': 0.2692307692307692}, 'Yes': {'Morning': 0.6052631578947368, 'Weekend': 0.07894736842105263, 'Afternoon': 0.3157894736842105}, 'Nil': {'Weekend': 0.3333333333333333, 'Morning': 0.5, 'Afternoon': 0.16666666666666666}}, 'subjectType': {'No': {'Theory': 0.5384615384615384, 'Problematic': 0.038461538461538464, 'Practicle': 0.038461538461538464, 'Programing': 0.38461538461538464}, 'Yes': {'Practicle': 0.34210526315789475, 'Programing': 0.2631578947368421, 'Theory': 0.21052631578947367, 'Problematic': 0.18421052631578946}, 'Nil': {'Programing': 0.3333333333333333, 'Problematic': 0.3333333333333333, 'Practicle': 0.16666666666666666, 'Theory': 0.16666666666666666}}, 'hungry': {'No': {'No': 0.7692307692307693, 'Yes': 0.23076923076923078}, 'Yes': {'No': 0.9210526315789473, 'Yes': 0.07894736842105263}, 'Nil': {'No': 1.0}}, 'weather': {'No': {'Hot': 0.5384615384615384, 'Mild': 0.2692307692307692, 'Cool': 0.19230769230769232}, 'Yes': {'Cool': 0.3684210526315789, 'Hot': 0.34210526315789475, 'Mild': 0.2894736842105263}, 'Nil': {'Hot': 0.16666666666666666, 'Mild': 0.3333333333333333, 'Cool': 0.5}}} \n",
      "\n",
      "P(X) :  {'classTime': {'Morning': 0.4142857142857143, 'Weekend': 0.17142857142857143, 'Afternoon': 0.4142857142857143}, 'subjectType': {'Problematic': 0.14285714285714285, 'Practicle': 0.21428571428571427, 'Programing': 0.3142857142857143, 'Theory': 0.32857142857142857}, 'hungry': {'No': 0.8714285714285714, 'Yes': 0.12857142857142856}, 'weather': {'Mild': 0.2857142857142857, 'Hot': 0.4, 'Cool': 0.3142857142857143}} \n",
      "\n",
      "Misclassification Count=24\n",
      "Misclassification Rate=80.0%\n",
      "Accuracy=20.0%\n"
     ]
    }
   ],
   "source": [
    "main()"
   ]
  },
  {
   "cell_type": "code",
   "execution_count": null,
   "metadata": {
    "collapsed": true
   },
   "outputs": [],
   "source": []
  }
 ],
 "metadata": {
  "kernelspec": {
   "display_name": "Python 3",
   "language": "python",
   "name": "python3"
  },
  "language_info": {
   "codemirror_mode": {
    "name": "ipython",
    "version": 3
   },
   "file_extension": ".py",
   "mimetype": "text/x-python",
   "name": "python",
   "nbconvert_exporter": "python",
   "pygments_lexer": "ipython3",
   "version": "3.6.3"
  }
 },
 "nbformat": 4,
 "nbformat_minor": 2
}
