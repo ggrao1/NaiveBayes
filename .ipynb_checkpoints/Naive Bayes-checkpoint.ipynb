{
 "cells": [
  {
   "cell_type": "code",
   "execution_count": 132,
   "metadata": {
    "collapsed": true
   },
   "outputs": [],
   "source": [
    "def probAttr(data,attr,val):\n",
    "    Total=data.shape[0]\n",
    "    cnt = len(data[data[attr] == val])\n",
    "    return cnt,cnt/Total"
   ]
  },
  {
   "cell_type": "code",
   "execution_count": 133,
   "metadata": {},
   "outputs": [],
   "source": [
    "def train(data,AttributeList,concept):\n",
    "    Attr={}\n",
    "    probability_list={}\n",
    "    #Get attribute values\n",
    "    for a in AttributeList:\n",
    "        Attr[a] = list(set(data[a]))\n",
    "    \n",
    "    conceptVals = list(set(data[concept]))\n",
    "    conceptProbs = {}\n",
    "    countConcept={}\n",
    "    AttrConcept = {}\n",
    "    for cVal in conceptVals:\n",
    "        countConcept[cVal],conceptProbs[cVal] = probAttr(data,concept,cVal)\n",
    "    \n",
    "    for val in Attr:\n",
    "        probability_list[val]={}\n",
    "        AttrConcept[val] = {}\n",
    "        for v in Attr[val]:\n",
    "            AttrConcept[val][v]={}\n",
    "            a,probability_list[val][v]=probAttr(data,val,v)\n",
    "            for cVal in conceptVals:\n",
    "                dataTemp = data[data[val]==v]\n",
    "                AttrConcept[val][v][cVal] = len(dataTemp[dataTemp[concept] == cVal])/countConcept[cVal]\n",
    "            \n",
    "    print(\"P(A) : \",conceptProbs,\"\\n\")\n",
    "    print(\"P(X/A) : \",AttrConcept,\"\\n\")\n",
    "    print(\"P(X) : \",probability_list,\"\\n\")\n",
    "    return conceptProbs,AttrConcept,probability_list"
   ]
  },
  {
   "cell_type": "code",
   "execution_count": 134,
   "metadata": {},
   "outputs": [],
   "source": [
    "def test(examples,AttributeList,conceptProbs,AttrConcept,probability_list,data,concept_list,Total):\n",
    "    misclassification_count=0\n",
    "    Total1 = len(examples)\n",
    "    i=1\n",
    "    for ex in examples:\n",
    "        px={}\n",
    "        for x in ex:\n",
    "            for a in AttributeList:\n",
    "                for c in concept_list:\n",
    "                    if x in AttrConcept[a]:\n",
    "                        if c not in px:\n",
    "                            px[c] = conceptProbs[c]*AttrConcept[a][x][c]/probability_list[a][x]\n",
    "                        else:\n",
    "                            px[c] = px[c]*AttrConcept[a][x][c]/probability_list[a][x]\n",
    "        \n",
    "        print(px)\n",
    "        classification = max(px,key=px.get)\n",
    "        print(i,\"Classification :\",classification,\"Expected :\",ex[-1])\n",
    "        i=i+1\n",
    "        if(classification!=ex[-1]):\n",
    "            misclassification_count+=1\n",
    "    misclassification_rate=misclassification_count*100/Total1\n",
    "    accuracy=100-misclassification_rate\n",
    "    print(\"Misclassification Count={}\".format(misclassification_count))\n",
    "    print(\"Misclassification Rate={}%\".format(misclassification_rate))\n",
    "    print(\"Accuracy={}%\".format(accuracy))"
   ]
  },
  {
   "cell_type": "code",
   "execution_count": 135,
   "metadata": {
    "collapsed": true,
    "scrolled": true
   },
   "outputs": [],
   "source": [
    "def main():\n",
    "    import pandas as pd\n",
    "    from pandas import DataFrame \n",
    "    from collections import Counter\n",
    "    data = DataFrame.from_csv('data_train1.csv')\n",
    "    AttributeList=list(data)[:-1]\n",
    "    concept=str(list(data)[-1])\n",
    "    Total=data.shape[0]\n",
    "    conceptProbs,AttrConcept,probability_list = train(data,AttributeList,concept)\n",
    "\n",
    "    examples = DataFrame.from_csv('data_test1.csv')\n",
    "    concept_list = list(set(data[concept]))\n",
    "    test(examples.values,AttributeList,conceptProbs,AttrConcept,probability_list,data,concept_list,Total)"
   ]
  },
  {
   "cell_type": "code",
   "execution_count": 136,
   "metadata": {
    "scrolled": true
   },
   "outputs": [
    {
     "name": "stdout",
     "output_type": "stream",
     "text": [
      "P(A) :  {'Yes': 0.6428571428571429, 'No': 0.35714285714285715} \n",
      "\n",
      "P(X/A) :  {'Outlook': {'Rain': {'Yes': 0.3333333333333333, 'No': 0.4}, 'Sunny': {'Yes': 0.2222222222222222, 'No': 0.6}, 'Overcast': {'Yes': 0.4444444444444444, 'No': 0.0}}, 'Temperature': {'Hot': {'Yes': 0.2222222222222222, 'No': 0.4}, 'Mild': {'Yes': 0.4444444444444444, 'No': 0.4}, 'Cool': {'Yes': 0.3333333333333333, 'No': 0.2}}, 'Humidity': {'High': {'Yes': 0.3333333333333333, 'No': 0.8}, 'Normal': {'Yes': 0.6666666666666666, 'No': 0.2}}, 'Wind': {'Strong': {'Yes': 0.3333333333333333, 'No': 0.6}, 'Weak': {'Yes': 0.6666666666666666, 'No': 0.4}}} \n",
      "\n",
      "P(X) :  {'Outlook': {'Rain': 0.35714285714285715, 'Sunny': 0.35714285714285715, 'Overcast': 0.2857142857142857}, 'Temperature': {'Hot': 0.2857142857142857, 'Mild': 0.42857142857142855, 'Cool': 0.2857142857142857}, 'Humidity': {'High': 0.5, 'Normal': 0.5}, 'Wind': {'Strong': 0.42857142857142855, 'Weak': 0.5714285714285714}} \n",
      "\n",
      "{'Yes': 0.24197530864197522, 'No': 0.9408000000000001}\n",
      "1 Classification : No Expected : No\n",
      "Misclassification Count=0\n",
      "Misclassification Rate=0.0%\n",
      "Accuracy=100.0%\n"
     ]
    }
   ],
   "source": [
    "main()"
   ]
  },
  {
   "cell_type": "code",
   "execution_count": null,
   "metadata": {
    "collapsed": true
   },
   "outputs": [],
   "source": []
  }
 ],
 "metadata": {
  "kernelspec": {
   "display_name": "Python 3",
   "language": "python",
   "name": "python3"
  },
  "language_info": {
   "codemirror_mode": {
    "name": "ipython",
    "version": 3
   },
   "file_extension": ".py",
   "mimetype": "text/x-python",
   "name": "python",
   "nbconvert_exporter": "python",
   "pygments_lexer": "ipython3",
   "version": "3.6.3"
  }
 },
 "nbformat": 4,
 "nbformat_minor": 2
}
