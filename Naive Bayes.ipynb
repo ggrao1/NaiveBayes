{
 "cells": [
  {
   "cell_type": "code",
   "execution_count": 117,
   "metadata": {
    "collapsed": true
   },
   "outputs": [],
   "source": [
    "def probAttr(data,attr,val):\n",
    "    Total=data.shape[0]\n",
    "    cnt = len(data[data[attr] == val])\n",
    "    return cnt,cnt/Total"
   ]
  },
  {
   "cell_type": "code",
   "execution_count": 118,
   "metadata": {
    "collapsed": true
   },
   "outputs": [],
   "source": [
    "def train(data,Attr,conceptVals,concept): \n",
    "    conceptProbs = {} #P(A)\n",
    "    countConcept={}\n",
    "    for cVal in conceptVals:\n",
    "        countConcept[cVal],conceptProbs[cVal] = probAttr(data,concept,cVal)\n",
    "    \n",
    "    AttrConcept = {} #P(X/A)\n",
    "    probability_list = {} #P(X)\n",
    "    for att in Attr:\n",
    "        probability_list[att] = {}\n",
    "        AttrConcept[att] = {}\n",
    "        for val in Attr[att]:\n",
    "            AttrConcept[att][val] = {}\n",
    "            a,probability_list[att][val] = probAttr(data,att,val)\n",
    "            for cVal in conceptVals:\n",
    "                dataTemp = data[data[att]==val]\n",
    "                AttrConcept[att][val][cVal] = len(dataTemp[dataTemp[concept] == cVal])/countConcept[cVal]\n",
    "            \n",
    "    print(\"P(A) : \",conceptProbs,\"\\n\")\n",
    "    print(\"P(X/A) : \",AttrConcept,\"\\n\")\n",
    "    print(\"P(X) : \",probability_list,\"\\n\")\n",
    "    return conceptProbs,AttrConcept,probability_list"
   ]
  },
  {
   "cell_type": "code",
   "execution_count": 119,
   "metadata": {
    "collapsed": true
   },
   "outputs": [],
   "source": [
    "def test(examples,Attr,concept_list,conceptProbs,AttrConcept,probability_list):\n",
    "    misclassification_count=0\n",
    "    Total = len(examples)\n",
    "    for ex in examples:\n",
    "        px={}\n",
    "        for a in Attr:\n",
    "            for x in ex:\n",
    "                for c in concept_list:\n",
    "                    if x in AttrConcept[a]:\n",
    "                        if c not in px:\n",
    "                            px[c] = conceptProbs[c]*AttrConcept[a][x][c]/probability_list[a][x]\n",
    "                        else:\n",
    "                            px[c] = px[c]*AttrConcept[a][x][c]/probability_list[a][x]\n",
    "        print(px)\n",
    "        classification = max(px,key=px.get)\n",
    "        print(\"Classification :\",classification,\"Expected :\",ex[-1])\n",
    "        if(classification!=ex[-1]):\n",
    "            misclassification_count+=1\n",
    "    misclassification_rate=misclassification_count*100/Total\n",
    "    accuracy=100-misclassification_rate\n",
    "    print(\"Misclassification Count={}\".format(misclassification_count))\n",
    "    print(\"Misclassification Rate={}%\".format(misclassification_rate))\n",
    "    print(\"Accuracy={}%\".format(accuracy))"
   ]
  },
  {
   "cell_type": "code",
   "execution_count": 120,
   "metadata": {
    "collapsed": true,
    "scrolled": true
   },
   "outputs": [],
   "source": [
    "def main():\n",
    "    import pandas as pd\n",
    "    from pandas import DataFrame \n",
    "    data = DataFrame.from_csv('data_train1.csv')\n",
    "    concept=str(list(data)[-1])\n",
    "    concept_list = set(data[concept])\n",
    "    Attr={}\n",
    "    for a in list(data)[:-1]:    #Get attribute values\n",
    "        Attr[a] = set(data[a])\n",
    "    conceptProbs,AttrConcept,probability_list = train(data,Attr,concept_list,concept)\n",
    "\n",
    "    examples = DataFrame.from_csv('data_test1.csv')\n",
    "    test(examples.values,Attr,concept_list,conceptProbs,AttrConcept,probability_list)"
   ]
  },
  {
   "cell_type": "code",
   "execution_count": 121,
   "metadata": {
    "scrolled": false
   },
   "outputs": [
    {
     "name": "stdout",
     "output_type": "stream",
     "text": [
      "P(A) :  {'Yes': 0.6428571428571429, 'No': 0.35714285714285715} \n",
      "\n",
      "P(X/A) :  {'Outlook': {'Sunny': {'Yes': 0.2222222222222222, 'No': 0.6}, 'Rain': {'Yes': 0.3333333333333333, 'No': 0.4}, 'Overcast': {'Yes': 0.4444444444444444, 'No': 0.0}}, 'Temperature': {'Mild': {'Yes': 0.4444444444444444, 'No': 0.4}, 'Hot': {'Yes': 0.2222222222222222, 'No': 0.4}, 'Cool': {'Yes': 0.3333333333333333, 'No': 0.2}}, 'Humidity': {'Normal': {'Yes': 0.6666666666666666, 'No': 0.2}, 'High': {'Yes': 0.3333333333333333, 'No': 0.8}}, 'Wind': {'Weak': {'Yes': 0.6666666666666666, 'No': 0.4}, 'Strong': {'Yes': 0.3333333333333333, 'No': 0.6}}} \n",
      "\n",
      "P(X) :  {'Outlook': {'Sunny': 0.35714285714285715, 'Rain': 0.35714285714285715, 'Overcast': 0.2857142857142857}, 'Temperature': {'Mild': 0.42857142857142855, 'Hot': 0.2857142857142857, 'Cool': 0.2857142857142857}, 'Humidity': {'Normal': 0.5, 'High': 0.5}, 'Wind': {'Weak': 0.5714285714285714, 'Strong': 0.42857142857142855}} \n",
      "\n",
      "{'Yes': 0.24197530864197522, 'No': 0.9408000000000001}\n",
      "Classification : No Expected : No\n",
      "Misclassification Count=0\n",
      "Misclassification Rate=0.0%\n",
      "Accuracy=100.0%\n"
     ]
    }
   ],
   "source": [
    "main()"
   ]
  },
  {
   "cell_type": "code",
   "execution_count": null,
   "metadata": {
    "collapsed": true
   },
   "outputs": [],
   "source": []
  }
 ],
 "metadata": {
  "kernelspec": {
   "display_name": "Python 3",
   "language": "python",
   "name": "python3"
  },
  "language_info": {
   "codemirror_mode": {
    "name": "ipython",
    "version": 3
   },
   "file_extension": ".py",
   "mimetype": "text/x-python",
   "name": "python",
   "nbconvert_exporter": "python",
   "pygments_lexer": "ipython3",
   "version": "3.6.3"
  }
 },
 "nbformat": 4,
 "nbformat_minor": 2
}
