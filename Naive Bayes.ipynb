{
 "cells": [
  {
   "cell_type": "code",
   "execution_count": 18,
   "metadata": {},
   "outputs": [],
   "source": [
    "def probAttr(data,attr,val):\n",
    "    Total=data.shape[0]\n",
    "    from collections import Counter\n",
    "    cnt=Counter(x for x in data[attr])\n",
    "    return cnt[val],cnt[val]/Total"
   ]
  },
  {
   "cell_type": "code",
   "execution_count": 19,
   "metadata": {},
   "outputs": [],
   "source": [
    "def probAttrConcept(data,attr,val,concept,cVal,countConcept):\n",
    "    count={}\n",
    "    prob={}\n",
    "    C = data[concept]\n",
    "    A = data[attr]\n",
    "    for a in range(len(data[attr])):\n",
    "        for v in val:\n",
    "            if(A[a]==v and C[a]==cVal):\n",
    "                if v not in count:\n",
    "                    count[v]=1\n",
    "                else:\n",
    "                    count[v]=count[v]+1\n",
    "    for a in count:\n",
    "        prob[a] = count[a]/countConcept\n",
    "    return prob"
   ]
  },
  {
   "cell_type": "code",
   "execution_count": 20,
   "metadata": {},
   "outputs": [],
   "source": [
    "def train(data,AttributeList,concept):\n",
    "    Attr={}\n",
    "    probability_list={}\n",
    "    #Get attribute values\n",
    "    for a in AttributeList:\n",
    "        Attr[a] = list(set(data[a]))\n",
    "    \n",
    "    conceptVals = list(set(data[concept]))\n",
    "    conceptProbs = {}\n",
    "    countConcept={}\n",
    "    AttrConcept = {}\n",
    "    for cVal in conceptVals:\n",
    "        countConcept[cVal],conceptProbs[cVal] = probAttr(data,concept,cVal)\n",
    "    \n",
    "    for val in Attr:\n",
    "        probability_list[val]={}\n",
    "        AttrConcept[val] = {}\n",
    "        for v in Attr[val]:\n",
    "            a,probability_list[val][v]=probAttr(data,val,v)\n",
    "        for cVal in conceptVals:\n",
    "            AttrConcept[val][cVal]=probAttrConcept(data,val,Attr[val],concept,cVal,countConcept[cVal])\n",
    "        \n",
    "    print(\"P(A) : \",conceptProbs,\"\\n\")\n",
    "    print(\"P(X/A) : \",AttrConcept,\"\\n\")\n",
    "    print(\"P(X) : \",probability_list,\"\\n\")\n",
    "    return conceptProbs,AttrConcept,probability_list"
   ]
  },
  {
   "cell_type": "code",
   "execution_count": 26,
   "metadata": {},
   "outputs": [],
   "source": [
    "def test(examples,AttributeList,conceptProbs,AttrConcept,probability_list,data,concept_list,Total):\n",
    "    misclassification_count=0\n",
    "    Total1 = len(examples)-1\n",
    "    for ex in range(1,len(examples)):\n",
    "        px={}\n",
    "        for c in concept_list:\n",
    "            for x in range(1,len(examples[ex])-1):\n",
    "                for a in AttributeList:\n",
    "                    if examples[ex][x] in AttrConcept[a][c]:  \n",
    "                        if c not in px:\n",
    "                            px[c] = 1*AttrConcept[a][c][examples[ex][x]]/probability_list[a][examples[ex][x]]\n",
    "                        else:\n",
    "                            px[c] = px[c]*AttrConcept[a][c][examples[ex][x]]/probability_list[a][examples[ex][x]]\n",
    "            px[c] = px[c]*conceptProbs[c]\n",
    "        print(px)\n",
    "        classification = max(px,key=px.get)\n",
    "        print(\"Classification :\",classification,\"Expected :\",examples[ex][-1])\n",
    "        if(classification!=examples[ex][-1]):\n",
    "            misclassification_count+=1\n",
    "    misclassification_rate=misclassification_count*100/Total1\n",
    "    accuracy=100-misclassification_rate\n",
    "    print(\"Misclassification Count={}\".format(misclassification_count))\n",
    "    print(\"Misclassification Rate={}%\".format(misclassification_rate))\n",
    "    print(\"Accuracy={}%\".format(accuracy))"
   ]
  },
  {
   "cell_type": "code",
   "execution_count": 27,
   "metadata": {
    "scrolled": true
   },
   "outputs": [],
   "source": [
    "def main():\n",
    "    import pandas as pd\n",
    "    from pandas import DataFrame \n",
    "    from collections import Counter\n",
    "    data = DataFrame.from_csv('data_train1.csv')\n",
    "    AttributeList=list(data)[:-1]\n",
    "    num_of_attributes=len(AttributeList)\n",
    "    concept=str(list(data)[-1])\n",
    "    Total=data.shape[0]\n",
    "    conceptProbs,AttrConcept,probability_list = train(data,AttributeList,concept)\n",
    "\n",
    "    import csv\n",
    "    with open('data_test1.csv')  as csvFile:\n",
    "        examples = [list(line) for line in csv.reader(csvFile)]\n",
    "    concept_list =list(Counter(x for x in data[concept]))\n",
    "    test(examples,AttributeList,conceptProbs,AttrConcept,probability_list,data,concept_list,Total)"
   ]
  },
  {
   "cell_type": "code",
   "execution_count": 28,
   "metadata": {
    "scrolled": true
   },
   "outputs": [
    {
     "name": "stdout",
     "output_type": "stream",
     "text": [
      "P(A) :  {'Yes': 0.6428571428571429, 'No': 0.35714285714285715} \n",
      "\n",
      "P(X/A) :  {'Outlook': {'Yes': {'Overcast': 0.4444444444444444, 'Rain': 0.3333333333333333, 'Sunny': 0.2222222222222222}, 'No': {'Sunny': 0.6, 'Rain': 0.4}}, 'Temperature': {'Yes': {'Hot': 0.2222222222222222, 'Mild': 0.4444444444444444, 'Cool': 0.3333333333333333}, 'No': {'Hot': 0.4, 'Cool': 0.2, 'Mild': 0.4}}, 'Humidity': {'Yes': {'High': 0.3333333333333333, 'Normal': 0.6666666666666666}, 'No': {'High': 0.8, 'Normal': 0.2}}, 'Wind': {'Yes': {'Weak': 0.6666666666666666, 'Strong': 0.3333333333333333}, 'No': {'Weak': 0.4, 'Strong': 0.6}}} \n",
      "\n",
      "P(X) :  {'Outlook': {'Rain': 0.35714285714285715, 'Sunny': 0.35714285714285715, 'Overcast': 0.2857142857142857}, 'Temperature': {'Mild': 0.42857142857142855, 'Cool': 0.2857142857142857, 'Hot': 0.2857142857142857}, 'Humidity': {'Normal': 0.5, 'High': 0.5}, 'Wind': {'Strong': 0.42857142857142855, 'Weak': 0.5714285714285714}} \n",
      "\n",
      "{'No': 0.9408000000000002, 'Yes': 0.2419753086419753}\n",
      "Classification : No Expected : No\n",
      "Misclassification Count=0\n",
      "Misclassification Rate=0.0%\n",
      "Accuracy=100.0%\n"
     ]
    },
    {
     "name": "stderr",
     "output_type": "stream",
     "text": [
      "/home/sahyadri/anaconda3/lib/python3.6/site-packages/ipykernel_launcher.py:5: FutureWarning: from_csv is deprecated. Please use read_csv(...) instead. Note that some of the default arguments are different, so please refer to the documentation for from_csv when changing your function calls\n",
      "  \"\"\"\n"
     ]
    }
   ],
   "source": [
    "main()"
   ]
  },
  {
   "cell_type": "code",
   "execution_count": null,
   "metadata": {
    "collapsed": true
   },
   "outputs": [],
   "source": []
  }
 ],
 "metadata": {
  "kernelspec": {
   "display_name": "Python 3",
   "language": "python",
   "name": "python3"
  },
  "language_info": {
   "codemirror_mode": {
    "name": "ipython",
    "version": 3
   },
   "file_extension": ".py",
   "mimetype": "text/x-python",
   "name": "python",
   "nbconvert_exporter": "python",
   "pygments_lexer": "ipython3",
   "version": "3.6.5"
  }
 },
 "nbformat": 4,
 "nbformat_minor": 2
}
