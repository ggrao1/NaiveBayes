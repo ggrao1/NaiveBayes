{
 "cells": [
  {
   "cell_type": "code",
   "execution_count": 321,
   "metadata": {
    "collapsed": true
   },
   "outputs": [],
   "source": [
    "def probAttr(data,attr,val):\n",
    "    Total=data.shape[0]\n",
    "    from collections import Counter\n",
    "    cnt=Counter(x for x in data[attr])\n",
    "    return cnt[val],cnt[val]/Total"
   ]
  },
  {
   "cell_type": "code",
   "execution_count": 322,
   "metadata": {},
   "outputs": [],
   "source": [
    "def probAttrConcept(data,attr,val,concept,cVal,countConcept):\n",
    "#     print(attr,val)\n",
    "    count={}\n",
    "    prob={}\n",
    "    C = data[concept]\n",
    "    A = data[attr]\n",
    "    for a in range(len(data[attr])):\n",
    "#         print(A[a],C[a])\n",
    "        for v in val:\n",
    "            if(A[a]==v and C[a]==cVal):\n",
    "                if v not in count:\n",
    "                    count[v]=1\n",
    "                else:\n",
    "                    count[v]=count[v]+1\n",
    "    for a in count:\n",
    "        prob[a] = count[a]/countConcept\n",
    "    return prob"
   ]
  },
  {
   "cell_type": "code",
   "execution_count": 390,
   "metadata": {
    "collapsed": true
   },
   "outputs": [],
   "source": [
    "def train(data,AttributeList,concept):\n",
    "    Attr={}\n",
    "    probability_list={}\n",
    "    for a in AttributeList:\n",
    "        Attr[a] = list(set(data[a]))\n",
    "        \n",
    "    conceptVals = list(set(data[concept]))\n",
    "    conceptProbs = {}\n",
    "    countConcept={}\n",
    "    AttrConcept = {}\n",
    "    for cVal in conceptVals:\n",
    "        countConcept[cVal],conceptProbs[cVal] = probAttr(data,concept,cVal)\n",
    "    \n",
    "    for val in Attr:\n",
    "        probability_list[val]={}\n",
    "        AttrConcept[val] = {}\n",
    "        for v in Attr[val]:\n",
    "            a,probability_list[val][v]=probAttr(data,val,v)\n",
    "        for cVal in conceptVals:\n",
    "            AttrConcept[val][cVal]=probAttrConcept(data,val,Attr[val],concept,cVal,countConcept[cVal])\n",
    "        \n",
    "    print(\"P(A) : \",conceptProbs,\"\\n\")\n",
    "    print(\"P(X/A) : \",AttrConcept,\"\\n\")\n",
    "    print(\"P(X) : \",probability_list,\"\\n\")\n",
    "    return conceptProbs,AttrConcept,probability_list\n"
   ]
  },
  {
   "cell_type": "code",
   "execution_count": 391,
   "metadata": {},
   "outputs": [],
   "source": [
    "def test(examples,AttributeList,conceptProbs,AttrConcept,probability_list,data,concept_list,Total):\n",
    "    misclassification_count=0\n",
    "#     Total = len(examples)-1\n",
    "    for ex in range(1,len(examples)):\n",
    "        px={}\n",
    "        for x in range(1,len(examples[ex])-1):\n",
    "            for a in AttributeList:\n",
    "                for c in concept_list:\n",
    "                    if examples[ex][x] in AttrConcept[a][c]:  \n",
    "                        if c not in px:\n",
    "                            px[c] = 1*AttrConcept[a][c][examples[ex][x]]\n",
    "                        else:\n",
    "                            px[c] = px[c]*AttrConcept[a][c][examples[ex][x]]\n",
    "        classification = max(px,key=px.get)\n",
    "        if(classification!=examples[ex][-1]):\n",
    "            misclassification_count+=1\n",
    "    misclassification_rate=misclassification_count*100/Total\n",
    "    accuracy=100-misclassification_rate\n",
    "    print(\"Misclassification Count={}\".format(misclassification_count))\n",
    "    print(\"Misclassification Rate={}%\".format(misclassification_rate))\n",
    "    print(\"Accuracy={}%\".format(accuracy))"
   ]
  },
  {
   "cell_type": "code",
   "execution_count": 392,
   "metadata": {
    "scrolled": true
   },
   "outputs": [],
   "source": [
    "def main():\n",
    "    import pandas as pd\n",
    "    from pandas import DataFrame \n",
    "    from collections import Counter\n",
    "    data = DataFrame.from_csv('data_train.csv')\n",
    "#     print(\"\\n Given Play Tennis Data Set:\\n\\n\", data)\n",
    "    AttributeList=list(data)[:-1]\n",
    "    num_of_attributes=len(AttributeList)\n",
    "    concept=str(list(data)[-1])\n",
    "    Total=data.shape[0]\n",
    "    conceptProbs,AttrConcept,probability_list = train(data,AttributeList,concept)\n",
    "\n",
    "    import csv\n",
    "    with open('data_test.csv')  as csvFile:\n",
    "        examples = [list(line) for line in csv.reader(csvFile)]\n",
    "#     print(examples)\n",
    "    concept_list =list(Counter(x for x in data[concept]))\n",
    "    test(examples,AttributeList,conceptProbs,AttrConcept,probability_list,data,concept_list,Total)"
   ]
  },
  {
   "cell_type": "code",
   "execution_count": 393,
   "metadata": {
    "scrolled": true
   },
   "outputs": [
    {
     "name": "stdout",
     "output_type": "stream",
     "text": [
      "P(A) :  {'No': 0.4, 'Yes': 0.6} \n",
      "\n",
      "P(X/A) :  {'classTime': {'No': {'Afternoon': 0.6071428571428571, 'Morning': 0.10714285714285714, 'Weekend': 0.2857142857142857}, 'Yes': {'Morning': 0.6190476190476191, 'Weekend': 0.09523809523809523, 'Afternoon': 0.2857142857142857}}, 'subjectType': {'No': {'Theory': 0.5357142857142857, 'Problematic': 0.03571428571428571, 'Practicle': 0.07142857142857142, 'Programing': 0.35714285714285715}, 'Yes': {'Practicle': 0.30952380952380953, 'Programing': 0.2857142857142857, 'Theory': 0.19047619047619047, 'Problematic': 0.21428571428571427}}, 'hungry': {'No': {'No': 0.7857142857142857, 'Yes': 0.21428571428571427}, 'Yes': {'No': 0.9285714285714286, 'Yes': 0.07142857142857142}}, 'weather': {'No': {'Hot': 0.5, 'Mild': 0.2857142857142857, 'Cool': 0.21428571428571427}, 'Yes': {'Cool': 0.38095238095238093, 'Hot': 0.3333333333333333, 'Mild': 0.2857142857142857}}} \n",
      "\n",
      "P(X) :  {'classTime': {'Weekend': 0.17142857142857143, 'Afternoon': 0.4142857142857143, 'Morning': 0.4142857142857143}, 'subjectType': {'Practicle': 0.21428571428571427, 'Programing': 0.3142857142857143, 'Problematic': 0.14285714285714285, 'Theory': 0.32857142857142857}, 'hungry': {'No': 0.8714285714285714, 'Yes': 0.12857142857142856}, 'weather': {'Hot': 0.4, 'Cool': 0.3142857142857143, 'Mild': 0.2857142857142857}} \n",
      "\n",
      "Misclassification Count=10\n",
      "Misclassification Rate=14.285714285714286%\n",
      "Accuracy=85.71428571428571%\n"
     ]
    }
   ],
   "source": [
    "main()"
   ]
  },
  {
   "cell_type": "code",
   "execution_count": null,
   "metadata": {
    "collapsed": true
   },
   "outputs": [],
   "source": []
  }
 ],
 "metadata": {
  "kernelspec": {
   "display_name": "Python 3",
   "language": "python",
   "name": "python3"
  },
  "language_info": {
   "codemirror_mode": {
    "name": "ipython",
    "version": 3
   },
   "file_extension": ".py",
   "mimetype": "text/x-python",
   "name": "python",
   "nbconvert_exporter": "python",
   "pygments_lexer": "ipython3",
   "version": "3.6.3"
  }
 },
 "nbformat": 4,
 "nbformat_minor": 2
}
